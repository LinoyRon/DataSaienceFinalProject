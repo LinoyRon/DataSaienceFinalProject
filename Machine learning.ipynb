{
 "cells": [
  {
   "cell_type": "code",
   "execution_count": 1,
   "metadata": {},
   "outputs": [],
   "source": [
    "import pandas as pd\n",
    "import numpy as np\n",
    "import sklearn\n",
    "from sklearn.preprocessing import MinMaxScaler\n",
    "from sklearn.neighbors import KNeighborsClassifier\n",
    "from sklearn import metrics\n",
    "from sklearn.model_selection import train_test_split\n",
    "import joblib as joblib\n",
    "\n",
    "import matplotlib.pyplot as plt\n",
    "%matplotlib inline"
   ]
  },
  {
   "cell_type": "code",
   "execution_count": 2,
   "metadata": {},
   "outputs": [
    {
     "data": {
      "text/html": [
       "<div>\n",
       "<style scoped>\n",
       "    .dataframe tbody tr th:only-of-type {\n",
       "        vertical-align: middle;\n",
       "    }\n",
       "\n",
       "    .dataframe tbody tr th {\n",
       "        vertical-align: top;\n",
       "    }\n",
       "\n",
       "    .dataframe thead th {\n",
       "        text-align: right;\n",
       "    }\n",
       "</style>\n",
       "<table border=\"1\" class=\"dataframe\">\n",
       "  <thead>\n",
       "    <tr style=\"text-align: right;\">\n",
       "      <th></th>\n",
       "      <th>Main Category</th>\n",
       "      <th>Category</th>\n",
       "      <th>Product name</th>\n",
       "      <th>Brand</th>\n",
       "      <th>Rating</th>\n",
       "      <th>Price</th>\n",
       "      <th>Link</th>\n",
       "    </tr>\n",
       "  </thead>\n",
       "  <tbody>\n",
       "    <tr>\n",
       "      <th>0</th>\n",
       "      <td>Makeup</td>\n",
       "      <td>Face</td>\n",
       "      <td>Kylighter</td>\n",
       "      <td>KYLIE COSMETICS</td>\n",
       "      <td>3.6</td>\n",
       "      <td>$8.00</td>\n",
       "      <td>https://www.ulta.com/p/kylighter-pimprod2007188</td>\n",
       "    </tr>\n",
       "    <tr>\n",
       "      <th>1</th>\n",
       "      <td>Makeup</td>\n",
       "      <td>Face</td>\n",
       "      <td>Shape Tape Concealer</td>\n",
       "      <td>Tarte</td>\n",
       "      <td>4.5</td>\n",
       "      <td>$27.00</td>\n",
       "      <td>https://www.ulta.com/p/shape-tape-concealer-xl...</td>\n",
       "    </tr>\n",
       "    <tr>\n",
       "      <th>2</th>\n",
       "      <td>Makeup</td>\n",
       "      <td>Face</td>\n",
       "      <td>Skin Concealer</td>\n",
       "      <td>KYLIE COSMETICS</td>\n",
       "      <td>3.7</td>\n",
       "      <td>$5.00</td>\n",
       "      <td>https://www.ulta.com/p/skin-concealer-pimprod2...</td>\n",
       "    </tr>\n",
       "    <tr>\n",
       "      <th>3</th>\n",
       "      <td>Makeup</td>\n",
       "      <td>Face</td>\n",
       "      <td>CC+ Cream with SPF 50+</td>\n",
       "      <td>It Cosmetics</td>\n",
       "      <td>4.3</td>\n",
       "      <td>$39.50</td>\n",
       "      <td>https://www.ulta.com/p/cc-cream-with-spf-50-xl...</td>\n",
       "    </tr>\n",
       "    <tr>\n",
       "      <th>4</th>\n",
       "      <td>Makeup</td>\n",
       "      <td>Face</td>\n",
       "      <td>Double Wear Stay-in-Place Makeup</td>\n",
       "      <td>Estée Lauder</td>\n",
       "      <td>4.6</td>\n",
       "      <td>$43.00</td>\n",
       "      <td>https://www.ulta.com/p/double-wear-stay-in-pla...</td>\n",
       "    </tr>\n",
       "    <tr>\n",
       "      <th>...</th>\n",
       "      <td>...</td>\n",
       "      <td>...</td>\n",
       "      <td>...</td>\n",
       "      <td>...</td>\n",
       "      <td>...</td>\n",
       "      <td>...</td>\n",
       "      <td>...</td>\n",
       "    </tr>\n",
       "    <tr>\n",
       "      <th>15576</th>\n",
       "      <td>Men</td>\n",
       "      <td>Hair</td>\n",
       "      <td>Cedarwood Grooming Paste</td>\n",
       "      <td>Every Man Jack</td>\n",
       "      <td>0.0</td>\n",
       "      <td>$9.99</td>\n",
       "      <td>https://www.ulta.com/p/cedarwood-grooming-past...</td>\n",
       "    </tr>\n",
       "    <tr>\n",
       "      <th>15577</th>\n",
       "      <td>Men</td>\n",
       "      <td>Hair</td>\n",
       "      <td>Daily Hydrator Hair Styling Cream</td>\n",
       "      <td>Frederick Benjamin</td>\n",
       "      <td>5.0</td>\n",
       "      <td>$12.00</td>\n",
       "      <td>https://www.ulta.com/p/daily-hydrator-hair-sty...</td>\n",
       "    </tr>\n",
       "    <tr>\n",
       "      <th>15578</th>\n",
       "      <td>Men</td>\n",
       "      <td>Gifts &amp; Value Sets</td>\n",
       "      <td>Wicked Beard Trio</td>\n",
       "      <td>Billy Jealousy</td>\n",
       "      <td>4.5</td>\n",
       "      <td>$24.00</td>\n",
       "      <td>https://www.ulta.com/p/wicked-beard-trio-xlsIm...</td>\n",
       "    </tr>\n",
       "    <tr>\n",
       "      <th>15579</th>\n",
       "      <td>Men</td>\n",
       "      <td>Gifts &amp; Value Sets</td>\n",
       "      <td>Deluxe Grooming Kit</td>\n",
       "      <td>American Crew</td>\n",
       "      <td>0.0</td>\n",
       "      <td>$23.50</td>\n",
       "      <td>https://www.ulta.com/p/deluxe-grooming-kit-pim...</td>\n",
       "    </tr>\n",
       "    <tr>\n",
       "      <th>15580</th>\n",
       "      <td>Men</td>\n",
       "      <td>Gifts &amp; Value Sets</td>\n",
       "      <td>Men's Series Grooming Kit</td>\n",
       "      <td>Revlon</td>\n",
       "      <td>4.3</td>\n",
       "      <td>$19.99</td>\n",
       "      <td>https://www.ulta.com/p/mens-series-grooming-ki...</td>\n",
       "    </tr>\n",
       "  </tbody>\n",
       "</table>\n",
       "<p>15581 rows × 7 columns</p>\n",
       "</div>"
      ],
      "text/plain": [
       "      Main Category            Category                       Product name  \\\n",
       "0            Makeup                Face                          Kylighter   \n",
       "1            Makeup                Face               Shape Tape Concealer   \n",
       "2            Makeup                Face                     Skin Concealer   \n",
       "3            Makeup                Face             CC+ Cream with SPF 50+   \n",
       "4            Makeup                Face   Double Wear Stay-in-Place Makeup   \n",
       "...             ...                 ...                                ...   \n",
       "15576           Men                Hair           Cedarwood Grooming Paste   \n",
       "15577           Men                Hair  Daily Hydrator Hair Styling Cream   \n",
       "15578           Men  Gifts & Value Sets                  Wicked Beard Trio   \n",
       "15579           Men  Gifts & Value Sets                Deluxe Grooming Kit   \n",
       "15580           Men  Gifts & Value Sets          Men's Series Grooming Kit   \n",
       "\n",
       "                    Brand  Rating   Price  \\\n",
       "0         KYLIE COSMETICS     3.6   $8.00   \n",
       "1                   Tarte     4.5  $27.00   \n",
       "2         KYLIE COSMETICS     3.7   $5.00   \n",
       "3            It Cosmetics     4.3  $39.50   \n",
       "4            Estée Lauder     4.6  $43.00   \n",
       "...                   ...     ...     ...   \n",
       "15576      Every Man Jack     0.0   $9.99   \n",
       "15577  Frederick Benjamin     5.0  $12.00   \n",
       "15578      Billy Jealousy     4.5  $24.00   \n",
       "15579       American Crew     0.0  $23.50   \n",
       "15580              Revlon     4.3  $19.99   \n",
       "\n",
       "                                                    Link  \n",
       "0        https://www.ulta.com/p/kylighter-pimprod2007188  \n",
       "1      https://www.ulta.com/p/shape-tape-concealer-xl...  \n",
       "2      https://www.ulta.com/p/skin-concealer-pimprod2...  \n",
       "3      https://www.ulta.com/p/cc-cream-with-spf-50-xl...  \n",
       "4      https://www.ulta.com/p/double-wear-stay-in-pla...  \n",
       "...                                                  ...  \n",
       "15576  https://www.ulta.com/p/cedarwood-grooming-past...  \n",
       "15577  https://www.ulta.com/p/daily-hydrator-hair-sty...  \n",
       "15578  https://www.ulta.com/p/wicked-beard-trio-xlsIm...  \n",
       "15579  https://www.ulta.com/p/deluxe-grooming-kit-pim...  \n",
       "15580  https://www.ulta.com/p/mens-series-grooming-ki...  \n",
       "\n",
       "[15581 rows x 7 columns]"
      ]
     },
     "execution_count": 2,
     "metadata": {},
     "output_type": "execute_result"
    }
   ],
   "source": [
    "dataSet=pd.read_csv('dataSet.csv').iloc[:,1:]\n",
    "dataSet"
   ]
  },
  {
   "cell_type": "markdown",
   "metadata": {},
   "source": [
    "For training the model, we focused in specificity categories and drop the rest"
   ]
  },
  {
   "cell_type": "code",
   "execution_count": 3,
   "metadata": {},
   "outputs": [],
   "source": [
    "df_copy=dataSet.copy().drop(columns=['Link','Product name'])"
   ]
  },
  {
   "cell_type": "markdown",
   "metadata": {},
   "source": [
    "For the \"Brand\" column, we reduced from 611 brands to 10 leading brands and kept the other brands under the \"Others\" label. "
   ]
  },
  {
   "cell_type": "code",
   "execution_count": 4,
   "metadata": {},
   "outputs": [],
   "source": [
    "fregBrands=dataSet['Brand'].value_counts()[:10].sort_index(ascending=True)\n",
    "tmp=[]\n",
    "\n",
    "for i, row in dataSet.iterrows():\n",
    "    if row['Brand'] in fregBrands: tmp.append(row['Brand']) \n",
    "    else: tmp.append('others')\n",
    "        \n",
    "df_copy['Brand']=tmp"
   ]
  },
  {
   "cell_type": "markdown",
   "metadata": {},
   "source": [
    "In this part we will need to replace the string columns with int columns. "
   ]
  },
  {
   "cell_type": "markdown",
   "metadata": {},
   "source": [
    "For 'Main Category','Brand' and 'Category' columns we will use replace function for convert values"
   ]
  },
  {
   "cell_type": "code",
   "execution_count": 5,
   "metadata": {},
   "outputs": [],
   "source": [
    "tmp=[]\n",
    "for i,row in dataSet.iterrows():\n",
    "    tmp.append(row['Price'].strip(\"$\"))\n",
    "\n",
    "df_copy['Price'] = tmp\n",
    "df_copy['Price'] = pd.to_numeric(df_copy['Price'],errors='coerce')\n",
    "df_copy=df_copy.dropna()"
   ]
  },
  {
   "cell_type": "code",
   "execution_count": 6,
   "metadata": {},
   "outputs": [],
   "source": [
    "Brand_replaceMap={'Clinique':1,'Hempz':2,'Morphe':3,'NYX Professional Makeup':4,'Pacifica':5,'Paul Mitchell':6,'Redken':7,\n",
    "            'Tarte':8,'ULTA':9,'e.l.f. Cosmetics':10,'others':11}\n",
    "df_copy.replace(Brand_replaceMap,inplace=True)"
   ]
  },
  {
   "cell_type": "code",
   "execution_count": 7,
   "metadata": {},
   "outputs": [],
   "source": [
    "mainCategory_replaceMap={'Makeup':1,'Nails':2,'Skin Care':3,'Hair':4,'Fragrance':5,'Bath & Body':6,'Men':7}\n",
    "df_copy.replace(mainCategory_replaceMap,inplace=True)"
   ]
  },
  {
   "cell_type": "code",
   "execution_count": 8,
   "metadata": {},
   "outputs": [],
   "source": [
    "Category_replaceMap={\"Face\":1,\"Shampoo & Conditioner\":2,\"Treatment & Serums\":5,\"Styling Products\":6,\"Cleansers\":7,\n",
    " \"Lips\":8,\"Treatment\":9,\"Women's Fragrance\":10,\"Makeup Brushes & Tools\":11,\"Bath & Shower\":12,\"Suncare\":13,\"Body Moisturizers\":14,\n",
    " \"Hair Styling Tools\":15,\"Eye Treatments\":16,\"Eye Treatments\":17,\"Accessories\":18,\"Gifts & Value Sets\":19,\"Travel Size\":20,\n",
    " \"Hair Brushes & Combs\":21,\"Hand & Foot Care\":22,\"Men's Fragrance\":23,\"Nail Care\":24,\"Makeup Palettes\":25,\"Nail Polish\":26,\n",
    " \"Makeup Bags & Organizers\":27, \"Bath & Body Accessories\":28, \"Manicure & Pedicure Tools\":29, \"Hair Color\":30, \"Shaving\":31,\n",
    " \"Skincare Tools\":32, \"Press On Nails\":33, \"Nail Polish Stickers\":34, \"Supplements\":35,\"Candles & Home Fragrance\":36,\"Hair\":37,\n",
    " \"Top & Base Coats\":38,\"Global Skin Care\":39,\"Fragrance Gift Sets\":40, \"ULTA Collection\":41,\"Body Care\":42,\"Body Makeup\":43,\n",
    " \"Gel Nail Polish\":44,\"Skin Care\":45, \"Self Care & Wellness\":46,\"Mother & Baby\":47,\"Kid's Haircare\":48, \"Nail Art & Design\":49,\n",
    "                     \"Eyes\":50,\"Moisturizers\":51}\n",
    "df_copy.replace(Category_replaceMap,inplace=True)"
   ]
  },
  {
   "cell_type": "markdown",
   "metadata": {},
   "source": [
    "For the prediction column, the 'Rating' column- We reduced the rating range between 1 to 5 as integers"
   ]
  },
  {
   "cell_type": "code",
   "execution_count": 9,
   "metadata": {
    "scrolled": true
   },
   "outputs": [
    {
     "data": {
      "text/html": [
       "<div>\n",
       "<style scoped>\n",
       "    .dataframe tbody tr th:only-of-type {\n",
       "        vertical-align: middle;\n",
       "    }\n",
       "\n",
       "    .dataframe tbody tr th {\n",
       "        vertical-align: top;\n",
       "    }\n",
       "\n",
       "    .dataframe thead th {\n",
       "        text-align: right;\n",
       "    }\n",
       "</style>\n",
       "<table border=\"1\" class=\"dataframe\">\n",
       "  <thead>\n",
       "    <tr style=\"text-align: right;\">\n",
       "      <th></th>\n",
       "      <th>Main Category</th>\n",
       "      <th>Category</th>\n",
       "      <th>Brand</th>\n",
       "      <th>Rating</th>\n",
       "      <th>Price</th>\n",
       "    </tr>\n",
       "  </thead>\n",
       "  <tbody>\n",
       "    <tr>\n",
       "      <th>0</th>\n",
       "      <td>1</td>\n",
       "      <td>1</td>\n",
       "      <td>11</td>\n",
       "      <td>4</td>\n",
       "      <td>8.00</td>\n",
       "    </tr>\n",
       "    <tr>\n",
       "      <th>1</th>\n",
       "      <td>1</td>\n",
       "      <td>1</td>\n",
       "      <td>8</td>\n",
       "      <td>5</td>\n",
       "      <td>27.00</td>\n",
       "    </tr>\n",
       "    <tr>\n",
       "      <th>2</th>\n",
       "      <td>1</td>\n",
       "      <td>1</td>\n",
       "      <td>11</td>\n",
       "      <td>4</td>\n",
       "      <td>5.00</td>\n",
       "    </tr>\n",
       "    <tr>\n",
       "      <th>3</th>\n",
       "      <td>1</td>\n",
       "      <td>1</td>\n",
       "      <td>11</td>\n",
       "      <td>5</td>\n",
       "      <td>39.50</td>\n",
       "    </tr>\n",
       "    <tr>\n",
       "      <th>4</th>\n",
       "      <td>1</td>\n",
       "      <td>1</td>\n",
       "      <td>11</td>\n",
       "      <td>5</td>\n",
       "      <td>43.00</td>\n",
       "    </tr>\n",
       "    <tr>\n",
       "      <th>...</th>\n",
       "      <td>...</td>\n",
       "      <td>...</td>\n",
       "      <td>...</td>\n",
       "      <td>...</td>\n",
       "      <td>...</td>\n",
       "    </tr>\n",
       "    <tr>\n",
       "      <th>15574</th>\n",
       "      <td>7</td>\n",
       "      <td>4</td>\n",
       "      <td>7</td>\n",
       "      <td>5</td>\n",
       "      <td>16.00</td>\n",
       "    </tr>\n",
       "    <tr>\n",
       "      <th>15575</th>\n",
       "      <td>7</td>\n",
       "      <td>4</td>\n",
       "      <td>7</td>\n",
       "      <td>5</td>\n",
       "      <td>8.00</td>\n",
       "    </tr>\n",
       "    <tr>\n",
       "      <th>15577</th>\n",
       "      <td>7</td>\n",
       "      <td>4</td>\n",
       "      <td>11</td>\n",
       "      <td>5</td>\n",
       "      <td>12.00</td>\n",
       "    </tr>\n",
       "    <tr>\n",
       "      <th>15578</th>\n",
       "      <td>7</td>\n",
       "      <td>19</td>\n",
       "      <td>11</td>\n",
       "      <td>5</td>\n",
       "      <td>24.00</td>\n",
       "    </tr>\n",
       "    <tr>\n",
       "      <th>15580</th>\n",
       "      <td>7</td>\n",
       "      <td>19</td>\n",
       "      <td>11</td>\n",
       "      <td>5</td>\n",
       "      <td>19.99</td>\n",
       "    </tr>\n",
       "  </tbody>\n",
       "</table>\n",
       "<p>14295 rows × 5 columns</p>\n",
       "</div>"
      ],
      "text/plain": [
       "       Main Category  Category  Brand Rating  Price\n",
       "0                  1         1     11      4   8.00\n",
       "1                  1         1      8      5  27.00\n",
       "2                  1         1     11      4   5.00\n",
       "3                  1         1     11      5  39.50\n",
       "4                  1         1     11      5  43.00\n",
       "...              ...       ...    ...    ...    ...\n",
       "15574              7         4      7      5  16.00\n",
       "15575              7         4      7      5   8.00\n",
       "15577              7         4     11      5  12.00\n",
       "15578              7        19     11      5  24.00\n",
       "15580              7        19     11      5  19.99\n",
       "\n",
       "[14295 rows x 5 columns]"
      ]
     },
     "execution_count": 9,
     "metadata": {},
     "output_type": "execute_result"
    }
   ],
   "source": [
    "bins = [0,1,2,3,4,5]\n",
    "labels = [1,2,3,4,5]\n",
    "df_copy['Rating'] = pd.cut(df_copy['Rating'], bins, labels=labels)\n",
    "df_copy=df_copy.dropna()\n",
    "df_copy"
   ]
  },
  {
   "cell_type": "markdown",
   "metadata": {},
   "source": [
    "The machine learning algorithm used is \"KNN\""
   ]
  },
  {
   "cell_type": "code",
   "execution_count": 10,
   "metadata": {},
   "outputs": [],
   "source": [
    "X = df_copy.drop(columns=['Rating'])\n",
    "y= pd.Series(df_copy['Rating'])\n",
    "\n",
    "# Split into training and test sets\n",
    "X_train, X_test, y_train, y_test = train_test_split(X, y, random_state=40, test_size=0.2)\n",
    "\n",
    "scaler = MinMaxScaler(feature_range=(0, 1))\n",
    "X_train_scaled = scaler.fit_transform(X_train)   \n",
    "\n",
    "# set up the model\n",
    "k = 3\n",
    "clf = KNeighborsClassifier(n_neighbors=k)\n",
    "model=clf.fit(X_train_scaled, y_train)"
   ]
  },
  {
   "cell_type": "code",
   "execution_count": 11,
   "metadata": {},
   "outputs": [
    {
     "name": "stdout",
     "output_type": "stream",
     "text": [
      "Accuracy =  0.7285764253235397\n"
     ]
    }
   ],
   "source": [
    "y_pred=model.predict(X_test)\n",
    "print('Accuracy = ', metrics.accuracy_score(y_true = y_test, y_pred = y_pred))"
   ]
  },
  {
   "cell_type": "markdown",
   "metadata": {},
   "source": [
    "We saving the model into 'MLmodel.csv' file by using joblib.dump function"
   ]
  },
  {
   "cell_type": "code",
   "execution_count": 12,
   "metadata": {},
   "outputs": [
    {
     "data": {
      "text/plain": [
       "['MLmodel.csv']"
      ]
     },
     "execution_count": 12,
     "metadata": {},
     "output_type": "execute_result"
    }
   ],
   "source": [
    "joblib.dump(model,'MLmodel.csv')"
   ]
  },
  {
   "cell_type": "markdown",
   "metadata": {},
   "source": [
    "Machine learning test: (you can test it by yourself)"
   ]
  },
  {
   "cell_type": "code",
   "execution_count": 13,
   "metadata": {},
   "outputs": [
    {
     "name": "stdout",
     "output_type": "stream",
     "text": [
      "Please enter some details about the product, for continue someting:Ok\n",
      "Main Category: Makeup\n",
      "Category: Face\n",
      "Brand: Terte\n",
      "Price: 27\n"
     ]
    }
   ],
   "source": [
    "str(input(\"Please enter some details about the product, for continue someting:\"))\n",
    "Main_Category = str(input(\"Main Category: \"))\n",
    "Category = str(input(\"Category: \"))\n",
    "Brand = str(input(\"Brand: \"))\n",
    "Price = str(input(\"Price: \"))"
   ]
  },
  {
   "cell_type": "code",
   "execution_count": 14,
   "metadata": {},
   "outputs": [],
   "source": [
    "try:\n",
    "    if Brand in Brand_replaceMap: Brand=Brand_replaceMap[Brand] \n",
    "    else: Brand=Brand_replaceMap['others'] \n",
    "    Main_Category=mainCategory_replaceMap[Main_Category]\n",
    "    Category=Category_replaceMap[Category]\n",
    "    Price=int(Price.strip(\"$\"))\n",
    "except:\n",
    "    print(\"ERROR\")"
   ]
  },
  {
   "cell_type": "code",
   "execution_count": 15,
   "metadata": {},
   "outputs": [
    {
     "name": "stdout",
     "output_type": "stream",
     "text": [
      "The model predict rating of:  5\n"
     ]
    }
   ],
   "source": [
    "X_text=[(Main_Category,Category,Brand,Price)]\n",
    "\n",
    "y_pred= model.predict(X_test)[0]\n",
    "print(\"The model predict rating of: \",y_pred)"
   ]
  }
 ],
 "metadata": {
  "kernelspec": {
   "display_name": "Python 3",
   "language": "python",
   "name": "python3"
  },
  "language_info": {
   "codemirror_mode": {
    "name": "ipython",
    "version": 3
   },
   "file_extension": ".py",
   "mimetype": "text/x-python",
   "name": "python",
   "nbconvert_exporter": "python",
   "pygments_lexer": "ipython3",
   "version": "3.8.5"
  }
 },
 "nbformat": 4,
 "nbformat_minor": 4
}
